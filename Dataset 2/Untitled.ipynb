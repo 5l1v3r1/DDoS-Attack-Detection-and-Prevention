{
 "cells": [
  {
   "cell_type": "code",
   "execution_count": 40,
   "metadata": {},
   "outputs": [],
   "source": [
    "import pandas as pd\n",
    "import numpy as np\n",
    "import scipy \n",
    "import matplotlib as plt\n",
    "import seaborn as sns; sns.set()"
   ]
  },
  {
   "cell_type": "code",
   "execution_count": 41,
   "metadata": {},
   "outputs": [
    {
     "data": {
      "text/html": [
       "<div>\n",
       "<style scoped>\n",
       "    .dataframe tbody tr th:only-of-type {\n",
       "        vertical-align: middle;\n",
       "    }\n",
       "\n",
       "    .dataframe tbody tr th {\n",
       "        vertical-align: top;\n",
       "    }\n",
       "\n",
       "    .dataframe thead th {\n",
       "        text-align: right;\n",
       "    }\n",
       "</style>\n",
       "<table border=\"1\" class=\"dataframe\">\n",
       "  <thead>\n",
       "    <tr style=\"text-align: right;\">\n",
       "      <th></th>\n",
       "      <th>SNMP Parameters</th>\n",
       "      <th>icmp_AddrMaskReps</th>\n",
       "      <th>icmp_InAddrMasks</th>\n",
       "      <th>icmp_InDestUnreachs</th>\n",
       "      <th>icmp_InEchosReps</th>\n",
       "      <th>icmp_InEchos</th>\n",
       "      <th>icmp_InErrors</th>\n",
       "      <th>icmp_InMsgs</th>\n",
       "      <th>icmp_InParmProbs</th>\n",
       "      <th>icmp_InRedirects</th>\n",
       "      <th>...</th>\n",
       "      <th>tcp_PassiveOpens</th>\n",
       "      <th>tcp_RetransSegs</th>\n",
       "      <th>tcp_RtoAlgorithm</th>\n",
       "      <th>tcp_RtoMax</th>\n",
       "      <th>tcp_RtoMin</th>\n",
       "      <th>udp_InDatagrams</th>\n",
       "      <th>udp_InErrors</th>\n",
       "      <th>udp_NoPorts</th>\n",
       "      <th>udp_OutDatagrams</th>\n",
       "      <th>ClassLabel</th>\n",
       "    </tr>\n",
       "  </thead>\n",
       "  <tbody>\n",
       "    <tr>\n",
       "      <th>1</th>\n",
       "      <td>Mon Jul 31 15:49:58 UTC 2017 Counter32 value</td>\n",
       "      <td>0</td>\n",
       "      <td>0</td>\n",
       "      <td>0</td>\n",
       "      <td>16</td>\n",
       "      <td>0</td>\n",
       "      <td>0</td>\n",
       "      <td>17</td>\n",
       "      <td>0</td>\n",
       "      <td>0</td>\n",
       "      <td>...</td>\n",
       "      <td>1</td>\n",
       "      <td>0</td>\n",
       "      <td>1</td>\n",
       "      <td>120000</td>\n",
       "      <td>200</td>\n",
       "      <td>148</td>\n",
       "      <td>0</td>\n",
       "      <td>1</td>\n",
       "      <td>149</td>\n",
       "      <td>ICMP_Normal</td>\n",
       "    </tr>\n",
       "    <tr>\n",
       "      <th>2</th>\n",
       "      <td>Mon Jul 31 15:50:31 UTC 2017 Counter32 value</td>\n",
       "      <td>0</td>\n",
       "      <td>0</td>\n",
       "      <td>0</td>\n",
       "      <td>111</td>\n",
       "      <td>0</td>\n",
       "      <td>0</td>\n",
       "      <td>112</td>\n",
       "      <td>0</td>\n",
       "      <td>0</td>\n",
       "      <td>...</td>\n",
       "      <td>2</td>\n",
       "      <td>0</td>\n",
       "      <td>1</td>\n",
       "      <td>120000</td>\n",
       "      <td>200</td>\n",
       "      <td>445</td>\n",
       "      <td>0</td>\n",
       "      <td>1</td>\n",
       "      <td>446</td>\n",
       "      <td>ICMP_Normal</td>\n",
       "    </tr>\n",
       "    <tr>\n",
       "      <th>3</th>\n",
       "      <td>Mon Jul 31 15:51:10 UTC 2017 Counter32 value</td>\n",
       "      <td>0</td>\n",
       "      <td>0</td>\n",
       "      <td>0</td>\n",
       "      <td>229</td>\n",
       "      <td>0</td>\n",
       "      <td>0</td>\n",
       "      <td>230</td>\n",
       "      <td>0</td>\n",
       "      <td>0</td>\n",
       "      <td>...</td>\n",
       "      <td>2</td>\n",
       "      <td>0</td>\n",
       "      <td>1</td>\n",
       "      <td>120000</td>\n",
       "      <td>200</td>\n",
       "      <td>741</td>\n",
       "      <td>0</td>\n",
       "      <td>1</td>\n",
       "      <td>742</td>\n",
       "      <td>ICMP_Normal</td>\n",
       "    </tr>\n",
       "    <tr>\n",
       "      <th>4</th>\n",
       "      <td>Mon Jul 31 15:51:44 UTC 2017 Counter32 value</td>\n",
       "      <td>0</td>\n",
       "      <td>0</td>\n",
       "      <td>0</td>\n",
       "      <td>0</td>\n",
       "      <td>0</td>\n",
       "      <td>0</td>\n",
       "      <td>332</td>\n",
       "      <td>0</td>\n",
       "      <td>0</td>\n",
       "      <td>...</td>\n",
       "      <td>2</td>\n",
       "      <td>0</td>\n",
       "      <td>1</td>\n",
       "      <td>120000</td>\n",
       "      <td>200</td>\n",
       "      <td>1037</td>\n",
       "      <td>0</td>\n",
       "      <td>1</td>\n",
       "      <td>1038</td>\n",
       "      <td>ICMP_Normal</td>\n",
       "    </tr>\n",
       "    <tr>\n",
       "      <th>5</th>\n",
       "      <td>Mon Jul 31 15:52:24 UTC 2017 Counter32 value</td>\n",
       "      <td>0</td>\n",
       "      <td>0</td>\n",
       "      <td>0</td>\n",
       "      <td>442</td>\n",
       "      <td>0</td>\n",
       "      <td>0</td>\n",
       "      <td>443</td>\n",
       "      <td>0</td>\n",
       "      <td>0</td>\n",
       "      <td>...</td>\n",
       "      <td>2</td>\n",
       "      <td>0</td>\n",
       "      <td>1</td>\n",
       "      <td>120000</td>\n",
       "      <td>200</td>\n",
       "      <td>1333</td>\n",
       "      <td>0</td>\n",
       "      <td>1</td>\n",
       "      <td>1334</td>\n",
       "      <td>ICMP_Normal</td>\n",
       "    </tr>\n",
       "  </tbody>\n",
       "</table>\n",
       "<p>5 rows × 66 columns</p>\n",
       "</div>"
      ],
      "text/plain": [
       "                                SNMP Parameters icmp_AddrMaskReps  \\\n",
       "1  Mon Jul 31 15:49:58 UTC 2017 Counter32 value                 0   \n",
       "2  Mon Jul 31 15:50:31 UTC 2017 Counter32 value                 0   \n",
       "3  Mon Jul 31 15:51:10 UTC 2017 Counter32 value                 0   \n",
       "4  Mon Jul 31 15:51:44 UTC 2017 Counter32 value                 0   \n",
       "5  Mon Jul 31 15:52:24 UTC 2017 Counter32 value                 0   \n",
       "\n",
       "  icmp_InAddrMasks icmp_InDestUnreachs icmp_InEchosReps icmp_InEchos  \\\n",
       "1                0                   0               16            0   \n",
       "2                0                   0              111            0   \n",
       "3                0                   0              229            0   \n",
       "4                0                   0                0            0   \n",
       "5                0                   0              442            0   \n",
       "\n",
       "  icmp_InErrors icmp_InMsgs icmp_InParmProbs icmp_InRedirects     ...       \\\n",
       "1             0          17                0                0     ...        \n",
       "2             0         112                0                0     ...        \n",
       "3             0         230                0                0     ...        \n",
       "4             0         332                0                0     ...        \n",
       "5             0         443                0                0     ...        \n",
       "\n",
       "  tcp_PassiveOpens tcp_RetransSegs tcp_RtoAlgorithm tcp_RtoMax tcp_RtoMin  \\\n",
       "1                1               0                1     120000        200   \n",
       "2                2               0                1     120000        200   \n",
       "3                2               0                1     120000        200   \n",
       "4                2               0                1     120000        200   \n",
       "5                2               0                1     120000        200   \n",
       "\n",
       "  udp_InDatagrams udp_InErrors udp_NoPorts udp_OutDatagrams   ClassLabel  \n",
       "1             148            0           1              149  ICMP_Normal  \n",
       "2             445            0           1              446  ICMP_Normal  \n",
       "3             741            0           1              742  ICMP_Normal  \n",
       "4            1037            0           1             1038  ICMP_Normal  \n",
       "5            1333            0           1             1334  ICMP_Normal  \n",
       "\n",
       "[5 rows x 66 columns]"
      ]
     },
     "execution_count": 41,
     "metadata": {},
     "output_type": "execute_result"
    }
   ],
   "source": [
    "df = pd.read_excel(\"SNMPdataset.xlsx\")\n",
    "df.drop(df.index[0],inplace=True)\n",
    "df.head(5)\n"
   ]
  },
  {
   "cell_type": "code",
   "execution_count": 44,
   "metadata": {},
   "outputs": [
    {
     "data": {
      "text/plain": [
       "Index(['icmp_InEchosReps', 'icmp_InErrors', 'icmp_InMsgs', 'icmp_InTimeExcds',\n",
       "       'icmp_InTimestamps', 'icmp_OutEchoReps', 'icmp_OutErrors',\n",
       "       'icmp_OutTimeExcds', 'icmp_OutTimestamps', 'ip_DefaultTTL',\n",
       "       'ip_Forwarding', 'ip_FragCreates', 'ip_FragOKs', 'ip_InAddrErrors',\n",
       "       'ip_InDelivers', 'ip_InReceives', 'ip_OutRequests', 'ip_ReasmOKs',\n",
       "       'ip_ReasmReqds', 'ip_ReasmTimeout', 'tcp_ActiveOpens',\n",
       "       'tcp_CurrEstablish', 'tcp_EstabResets', 'tcp_InSegs', 'tcp_MaxConn',\n",
       "       'tcp_OutRsts', 'tcp_OutSegs', 'tcp_PassiveOpens', 'tcp_RetransSegs',\n",
       "       'tcp_RtoAlgorithm', 'tcp_RtoMax', 'tcp_RtoMin', 'udp_InDatagrams',\n",
       "       'udp_NoPorts', 'udp_OutDatagrams', 'ClassLabel'],\n",
       "      dtype='object')"
      ]
     },
     "execution_count": 44,
     "metadata": {},
     "output_type": "execute_result"
    }
   ],
   "source": [
    "df= df.replace(0,np.nan)\n",
    "df=df.dropna(how='all',axis=1)\n",
    "df=df.replace(np.nan,0)\n",
    "del df[\"SNMP Parameters\"]\n",
    "df.head()\n"
   ]
  },
  {
   "cell_type": "code",
   "execution_count": null,
   "metadata": {},
   "outputs": [],
   "source": [
    "icmp_col = [col for col in df if col.startswith('icmp')]\n",
    "icmp_col.append(\"ClassLabel\")\n",
    "tcp_col = [col for col in df if col.startswith('tcp')]\n",
    "tcp_col.append(\"ClassLabel\")"
   ]
  },
  {
   "cell_type": "code",
   "execution_count": null,
   "metadata": {},
   "outputs": [],
   "source": [
    "\n",
    "df.columns\n",
    "df_icmp=df[icmp_col]\n"
   ]
  },
  {
   "cell_type": "code",
   "execution_count": null,
   "metadata": {},
   "outputs": [],
   "source": [
    "df_tcp=df[tcp_col]\n",
    "df_tcp.head()"
   ]
  },
  {
   "cell_type": "code",
   "execution_count": null,
   "metadata": {},
   "outputs": [],
   "source": [
    "df_icmp['ClassLabel'].unique()"
   ]
  },
  {
   "cell_type": "code",
   "execution_count": null,
   "metadata": {},
   "outputs": [],
   "source": [
    "df_icmp=df_icmp.loc[df['ClassLabel'].isin(['ICMP_Normal','ICMP_Flood'])]\n",
    "df_icmp.tail()"
   ]
  },
  {
   "cell_type": "code",
   "execution_count": null,
   "metadata": {},
   "outputs": [],
   "source": [
    "from sklearn.cross_validation import train_test_split\n",
    "y_icmp = df_icmp.pop('ClassLabel')\n",
    "X_icmp = df_icmp\n",
    "X_train_icmp,X_test_icmp,y_train_icmp,y_test_icmp = train_test_split(X_icmp,y_icmp,test_size=0.3)"
   ]
  },
  {
   "cell_type": "code",
   "execution_count": null,
   "metadata": {},
   "outputs": [],
   "source": [
    "from sklearn import svm\n",
    "y_train_icmp=np.array(y_train_icmp).reshape(-1,1)\n",
    "y_test_icmp.shape"
   ]
  },
  {
   "cell_type": "code",
   "execution_count": null,
   "metadata": {},
   "outputs": [],
   "source": [
    "import xgboost as xgb\n",
    "from sklearn.model_selection import train_test_split\n",
    "from sklearn.preprocessing import StandardScaler\n",
    "from sklearn.neural_network import MLPClassifier\n",
    "from sklearn.neighbors import KNeighborsClassifier\n",
    "from sklearn.tree import DecisionTreeClassifier\n",
    "from sklearn.ensemble import RandomForestClassifier, AdaBoostClassifier,ExtraTreesClassifier \n",
    "from sklearn import preprocessing"
   ]
  },
  {
   "cell_type": "code",
   "execution_count": null,
   "metadata": {},
   "outputs": [],
   "source": [
    "def models(X_train,X_test,y_train,y_test):\n",
    "    names = [\"Nearest Neighbors\", \"XGBoost\",\"Decision Tree\", \"Random Forest\",\"ExtraTreesClassifier\",\"SVM\"]\n",
    "    classifiers = [KNeighborsClassifier(20),\n",
    "                   xgb.XGBClassifier(learning_rate=0.01, max_depth=5, n_estimators=100),\n",
    "                   DecisionTreeClassifier(max_depth=2),\n",
    "                   RandomForestClassifier(max_depth=5, n_estimators=100,max_features=7),\n",
    "                   ExtraTreesClassifier(max_depth=5,n_estimators=100,max_features=7),\n",
    "                   svm.SVC()]\n",
    "    for name, clf in zip(names, classifiers):\n",
    "        clf.fit(X_train, y_train)\n",
    "        score = clf.score(X_test, y_test)\n",
    "        print(name+' Score:',score)\n",
    "        prediction1 = clf.predict(X_test)\n",
    "        np.set_printoptions(precision=2)\n",
    "    return 1\n",
    "    "
   ]
  },
  {
   "cell_type": "code",
   "execution_count": null,
   "metadata": {},
   "outputs": [],
   "source": [
    "names = [\"Nearest Neighbors\", \"XGBoost\",\n",
    "         \"Decision Tree\", \"Random Forest\",\"ExtraTreesClassifier\",\"SVM\"]\n",
    "\n",
    "classifiers = [\n",
    "    KNeighborsClassifier(20),\n",
    "    xgb.XGBClassifier(learning_rate=0.01, max_depth=5, n_estimators=100),\n",
    "    DecisionTreeClassifier(max_depth=2),\n",
    "    RandomForestClassifier(max_depth=5, n_estimators=100,max_features=7),\n",
    "    ExtraTreesClassifier(max_depth=5,n_estimators=100,max_features=7),\n",
    "svm.SVC()]"
   ]
  },
  {
   "cell_type": "code",
   "execution_count": null,
   "metadata": {},
   "outputs": [],
   "source": [
    "for name, clf in zip(names, classifiers):\n",
    "    clf.fit(X_train_icmp, y_train_icmp)\n",
    "    score = clf.score(X_test_icmp, y_test_icmp)\n",
    "    print(name+' Score:',score)\n",
    "    prediction1 = clf.predict(X_test_icmp)\n",
    "    np.set_printoptions(precision=2)"
   ]
  },
  {
   "cell_type": "markdown",
   "metadata": {},
   "source": [
    "# tried on full data"
   ]
  },
  {
   "cell_type": "code",
   "execution_count": null,
   "metadata": {},
   "outputs": [],
   "source": [
    "y = df.pop('ClassLabel')\n",
    "X = df\n",
    "X_train,X_test,y_train,y_test = train_test_split(X,y,test_size=0.3)\n",
    "y_train_icmp=np.array(y_train_icmp).reshape(-1,1)"
   ]
  },
  {
   "cell_type": "code",
   "execution_count": null,
   "metadata": {},
   "outputs": [],
   "source": [
    "models(X_train,X_test,y_train,y_test)"
   ]
  },
  {
   "cell_type": "code",
   "execution_count": null,
   "metadata": {},
   "outputs": [],
   "source": [
    "def sampler(df,category,class_labels):\n",
    "    col = [col for col in df if col.startswith(category)]\n",
    "    col.append(\"ClassLabel\")\n",
    "    df_tmp=df[col]\n",
    "    df_tmp=df_tmp.loc[df['ClassLabel'].isin(class_labels)]\n",
    "    y= df_tmp.pop('ClassLabel')\n",
    "    X = df_tmp\n",
    "    X_train,X_test,y_train,y_test= train_test_split(X,y,test_size=0.3)\n",
    "    return X_train,X_test,y_train,y_test \n",
    "    \n",
    "    \n",
    "    "
   ]
  },
  {
   "cell_type": "code",
   "execution_count": null,
   "metadata": {},
   "outputs": [],
   "source": [
    "category=['icmp','tcp','udp',] \n",
    "for\n",
    "X_train,X_test,y_train,y_test = sampler(df,'tcp',['TCPSYN_Normal', 'TCPSYNACK_Normal','TCPSYN_Flood','TCPSYNACK_Flood'])\n",
    "\n"
   ]
  }
 ],
 "metadata": {
  "kernelspec": {
   "display_name": "Python 3",
   "language": "python",
   "name": "python3"
  },
  "language_info": {
   "codemirror_mode": {
    "name": "ipython",
    "version": 3
   },
   "file_extension": ".py",
   "mimetype": "text/x-python",
   "name": "python",
   "nbconvert_exporter": "python",
   "pygments_lexer": "ipython3",
   "version": "3.5.2"
  }
 },
 "nbformat": 4,
 "nbformat_minor": 2
}
